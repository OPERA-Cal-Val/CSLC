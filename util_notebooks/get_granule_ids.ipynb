{
 "cells": [
  {
   "cell_type": "code",
   "execution_count": 1,
   "metadata": {},
   "outputs": [],
   "source": [
    "import asf_search as asf\n",
    "from datetime import date\n",
    "import getpass"
   ]
  },
  {
   "cell_type": "code",
   "execution_count": 2,
   "metadata": {},
   "outputs": [],
   "source": [
    "# List of CalVal sites\n",
    "ROSAMOND = 'POLYGON((-118.1033 34.8002,-118.0692 34.8002,-118.0692 34.8208,-118.1033 34.8208,-118.1033 34.8002))'\n",
    "SAF = 'POINT(-120.879 36.14)'   # OPERA CR Site (P288)\n",
    "CENTRALVALLEY = 'POLYGON((-119.4272 36.1677,-119.2288 36.1677,-119.2288 36.2348,-119.4272 36.2348,-119.4272 36.1677))'\n",
    "LA = 'POLYGON((-118.3423 33.5592,-117.778 33.5592,-117.778 33.8802,-118.3423 33.8802,-118.3423 33.5592))'\n",
    "RIDGECREST = 'POLYGON((-117.6858 35.6012,-117.2061 35.6012,-117.2061 35.7909,-117.6858 35.7909,-117.6858 35.6012))'\n",
    "BIGISLAND = 'POLYGON((-155.6635 19.3756,-155.4825 19.3756,-155.4825 19.5104,-155.6635 19.5104,-155.6635 19.3756))'"
   ]
  },
  {
   "cell_type": "code",
   "execution_count": 3,
   "metadata": {},
   "outputs": [],
   "source": [
    "# Enter search and output parameters\n",
    "save_dir = '/u/trappist-r0/bato/work/calval-CSLC/data_request/RC2-RC8'\n",
    "save_fn = 'A137_SAF_additional.txt'\n",
    "aoi = vars()[save_fn.split('.')[0].split('_')[1]]\n",
    "startDate = '2023-07-01'\n",
    "endDate = '2023-08-01'\n",
    "relativeOrbit = int(save_fn[1:4])\n",
    "flightDirection = asf.ASCENDING if save_fn[0] == 'A' else asf.DESCENDING"
   ]
  },
  {
   "cell_type": "code",
   "execution_count": 4,
   "metadata": {},
   "outputs": [],
   "source": [
    "# Ask user to input URS credentials\n",
    "username = input('Enter NASA Earthdata Login Username: ')\n",
    "password = getpass.getpass('Enter NASA Earthdata Login Username: ')"
   ]
  },
  {
   "cell_type": "code",
   "execution_count": 5,
   "metadata": {},
   "outputs": [],
   "source": [
    "# Initialize Credentials\n",
    "session = asf.ASFSession().auth_with_creds(username=username, password=password)\n",
    "\n",
    "# Search SLCs\n",
    "results = asf.geo_search(\n",
    "    platform=asf.SENTINEL1,\n",
    "    intersectsWith=aoi,\n",
    "    start=startDate,\n",
    "    end=endDate,\n",
    "    processingLevel=asf.SLC,\n",
    "    beamMode=asf.IW,\n",
    "    relativeOrbit=relativeOrbit,\n",
    "    flightDirection=flightDirection\n",
    "    )"
   ]
  },
  {
   "cell_type": "code",
   "execution_count": 6,
   "metadata": {},
   "outputs": [
    {
     "name": "stdout",
     "output_type": "stream",
     "text": [
      "=====================================================================================\n",
      "Listing data for DESCENDING pass 42 from 2023-07-01 to 2023-08-01\n",
      "=====================================================================================\n",
      "S1A_IW_SLC__1SDV_20230729T140834_20230729T140901_049639_05F813_8AFA\n",
      "S1A_IW_SLC__1SDV_20230717T140833_20230717T140900_049464_05F2A8_0203\n",
      "S1A_IW_SLC__1SDV_20230705T140832_20230705T140859_049289_05ED46_7FFB\n"
     ]
    }
   ],
   "source": [
    "# Print results\n",
    "granule_ids = []\n",
    "print('=====================================================================================')\n",
    "print(f'Listing data for {flightDirection} pass {relativeOrbit} from {startDate} to {endDate}')\n",
    "print('=====================================================================================')\n",
    "for f in results:\n",
    "    ids = f.properties['sceneName']\n",
    "    print(ids)\n",
    "    granule_ids.append(f'{ids}\\n')"
   ]
  },
  {
   "cell_type": "code",
   "execution_count": 7,
   "metadata": {},
   "outputs": [],
   "source": [
    "# Save the list to a txt file\n",
    "with open(f'{save_dir}/{save_fn}', 'w') as f:\n",
    "   f.writelines(granule_ids)"
   ]
  }
 ],
 "metadata": {
  "kernelspec": {
   "display_name": "ARIA-tools",
   "language": "python",
   "name": "python3"
  },
  "language_info": {
   "codemirror_mode": {
    "name": "ipython",
    "version": 3
   },
   "file_extension": ".py",
   "mimetype": "text/x-python",
   "name": "python",
   "nbconvert_exporter": "python",
   "pygments_lexer": "ipython3",
   "version": "3.11.4"
  },
  "orig_nbformat": 4,
  "vscode": {
   "interpreter": {
    "hash": "7144f63fd71aa8b1b334b7832a4a3642ad7344058ab38b0d75932c4c3854e415"
   }
  }
 },
 "nbformat": 4,
 "nbformat_minor": 2
}
