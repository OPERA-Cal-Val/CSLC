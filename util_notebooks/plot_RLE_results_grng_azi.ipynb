{
 "cells": [
  {
   "cell_type": "code",
   "execution_count": null,
   "id": "6ae4866a",
   "metadata": {},
   "outputs": [],
   "source": [
    "%load_ext autoreload\n",
    "%autoreload 2"
   ]
  },
  {
   "cell_type": "code",
   "execution_count": null,
   "id": "59eb6608",
   "metadata": {},
   "outputs": [],
   "source": [
    "import pandas as pd\n",
    "import numpy as np\n",
    "import matplotlib.patches as patches\n",
    "import matplotlib.pyplot as plt\n",
    "%matplotlib inline"
   ]
  },
  {
   "cell_type": "code",
   "execution_count": null,
   "id": "b41b5267",
   "metadata": {},
   "outputs": [],
   "source": [
    "# Define parameters\n",
    "save_dir = '/u/trappist-r0/bato/work/calval-CSLC/Rosamond/RLE/'\n",
    "outcsv1 = 'RLE_ts_t064_135523_iw2.csv'\n",
    "burst_id = 't064_135523_iw2'\n",
    "cr_network = 'Rosamond'"
   ]
  },
  {
   "cell_type": "code",
   "execution_count": null,
   "id": "df3748e1",
   "metadata": {},
   "outputs": [],
   "source": [
    "# Read csv results\n",
    "df = pd.read_csv(f'{save_dir}/summary/{outcsv1}', sep=',', header=1)\n",
    "df.columns = ['dates','GRg_avg','GRg_std','az_avg','az_std']\n",
    "df['dates'] = pd.to_datetime(df['dates'],format='%Y-%m-%d')"
   ]
  },
  {
   "cell_type": "code",
   "execution_count": null,
   "id": "bd226c1a",
   "metadata": {},
   "outputs": [],
   "source": [
    "df['GRg_avg'] = df['GRg_avg'] -df['GRg_avg'][0]\n",
    "df['az_avg'] = df['az_avg'] -df['az_avg'][0]"
   ]
  },
  {
   "cell_type": "code",
   "execution_count": null,
   "id": "1d098abf",
   "metadata": {},
   "outputs": [],
   "source": [
    "# Plot results\n",
    "fig, ax = plt.subplots(2,1,figsize=(15,10),sharex=True)\n",
    "ax[0].set_title('RLE in Ground Range (m)')\n",
    "ax[0].axhspan(-0.5,0.5,color='red', alpha=0.05)\n",
    "ax[0].errorbar(df['dates'],df['GRg_avg'],df['GRg_std'],marker='o',linestyle=' ',ecolor='lightgray', elinewidth=3, capsize=0, zorder=0)\n",
    "ax[0].set_ylim(-3,3)\n",
    "ax[0].grid(axis='x',linestyle='--')\n",
    "ax[0].set_ylabel('Ground Range Offset (m)')\n",
    "\n",
    "ax[1].set_title('RLE in Azimuth (m)')\n",
    "ax[1].axhspan(-0.75,0.75,color='red', alpha=0.05)\n",
    "ax[1].errorbar(df['dates'],df['az_avg'],df['az_std'],marker='o',linestyle=' ',ecolor='lightgray', elinewidth=3, capsize=0, zorder=0)\n",
    "ax[1].set_xlabel('dates')\n",
    "ax[1].set_ylim(-5,5)\n",
    "ax[1].grid(axis='x',linestyle='--')\n",
    "ax[1].set_ylabel('Azimuth Offset (m)')\n",
    "fig.savefig(f'{save_dir}/summary/RLE_ts_grngazi.png',dpi=300,bbox_inches='tight')"
   ]
  }
 ],
 "metadata": {
  "kernelspec": {
   "display_name": "calval_CSLC",
   "language": "python",
   "name": "python3"
  },
  "language_info": {
   "codemirror_mode": {
    "name": "ipython",
    "version": 3
   },
   "file_extension": ".py",
   "mimetype": "text/x-python",
   "name": "python",
   "nbconvert_exporter": "python",
   "pygments_lexer": "ipython3",
   "version": "3.11.0"
  }
 },
 "nbformat": 4,
 "nbformat_minor": 5
}
