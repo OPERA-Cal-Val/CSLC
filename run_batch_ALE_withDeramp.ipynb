{
 "cells": [
  {
   "cell_type": "code",
   "execution_count": 1,
   "metadata": {},
   "outputs": [],
   "source": [
    "%load_ext autoreload\n",
    "%autoreload 2"
   ]
  },
  {
   "cell_type": "code",
   "execution_count": 2,
   "metadata": {},
   "outputs": [
    {
     "name": "stdout",
     "output_type": "stream",
     "text": [
      "\n"
     ]
    }
   ],
   "source": [
    "import papermill as pm\n",
    "import warnings\n",
    "warnings.filterwarnings('ignore')\n",
    "\n",
    "!export PYDEVD_DISABLE_FILE_VALIDATION=1\n",
    "!echo $PYDEVD_DISABLE_FILE_VALIDATION"
   ]
  },
  {
   "cell_type": "code",
   "execution_count": 3,
   "metadata": {},
   "outputs": [],
   "source": [
    "f = open('t064_135523_iw2_datelist.dat')\n",
    "datels = f.read().splitlines()"
   ]
  },
  {
   "cell_type": "code",
   "execution_count": 4,
   "metadata": {},
   "outputs": [
    {
     "name": "stdout",
     "output_type": "stream",
     "text": [
      "Processing date: 20141221\n"
     ]
    },
    {
     "data": {
      "application/vnd.jupyter.widget-view+json": {
       "model_id": "22f014134c0f462c8d77828f9cafe2ed",
       "version_major": 2,
       "version_minor": 0
      },
      "text/plain": [
       "Executing:   0%|          | 0/19 [00:00<?, ?cell/s]"
      ]
     },
     "metadata": {},
     "output_type": "display_data"
    },
    {
     "name": "stderr",
     "output_type": "stream",
     "text": [
      "0.00s - Debugger warning: It seems that frozen modules are being used, which may\n",
      "0.00s - make the debugger miss breakpoints. Please pass -Xfrozen_modules=off\n",
      "0.00s - to python to disable frozen modules.\n",
      "0.00s - Note: Debugging will proceed. Set PYDEVD_DISABLE_FILE_VALIDATION=1 to disable this validation.\n"
     ]
    },
    {
     "name": "stdout",
     "output_type": "stream",
     "text": [
      "Processing date: 20150114\n"
     ]
    },
    {
     "data": {
      "application/vnd.jupyter.widget-view+json": {
       "model_id": "3f3104cdfe9f4976859d2e7f9a42317b",
       "version_major": 2,
       "version_minor": 0
      },
      "text/plain": [
       "Executing:   0%|          | 0/19 [00:00<?, ?cell/s]"
      ]
     },
     "metadata": {},
     "output_type": "display_data"
    },
    {
     "name": "stderr",
     "output_type": "stream",
     "text": [
      "0.00s - Debugger warning: It seems that frozen modules are being used, which may\n",
      "0.00s - make the debugger miss breakpoints. Please pass -Xfrozen_modules=off\n",
      "0.00s - to python to disable frozen modules.\n",
      "0.00s - Note: Debugging will proceed. Set PYDEVD_DISABLE_FILE_VALIDATION=1 to disable this validation.\n"
     ]
    },
    {
     "name": "stdout",
     "output_type": "stream",
     "text": [
      "Processing date: 20150207\n"
     ]
    },
    {
     "data": {
      "application/vnd.jupyter.widget-view+json": {
       "model_id": "72cdd0b7c97b4ea786551973096a4782",
       "version_major": 2,
       "version_minor": 0
      },
      "text/plain": [
       "Executing:   0%|          | 0/19 [00:00<?, ?cell/s]"
      ]
     },
     "metadata": {},
     "output_type": "display_data"
    },
    {
     "name": "stderr",
     "output_type": "stream",
     "text": [
      "0.00s - Debugger warning: It seems that frozen modules are being used, which may\n",
      "0.00s - make the debugger miss breakpoints. Please pass -Xfrozen_modules=off\n",
      "0.00s - to python to disable frozen modules.\n",
      "0.00s - Note: Debugging will proceed. Set PYDEVD_DISABLE_FILE_VALIDATION=1 to disable this validation.\n"
     ]
    },
    {
     "name": "stdout",
     "output_type": "stream",
     "text": [
      "Processing date: 20150327\n"
     ]
    },
    {
     "data": {
      "application/vnd.jupyter.widget-view+json": {
       "model_id": "2d2c5d870b9f4d05b74febdcdd489908",
       "version_major": 2,
       "version_minor": 0
      },
      "text/plain": [
       "Executing:   0%|          | 0/19 [00:00<?, ?cell/s]"
      ]
     },
     "metadata": {},
     "output_type": "display_data"
    },
    {
     "name": "stderr",
     "output_type": "stream",
     "text": [
      "0.00s - Debugger warning: It seems that frozen modules are being used, which may\n",
      "0.00s - make the debugger miss breakpoints. Please pass -Xfrozen_modules=off\n",
      "0.00s - to python to disable frozen modules.\n",
      "0.00s - Note: Debugging will proceed. Set PYDEVD_DISABLE_FILE_VALIDATION=1 to disable this validation.\n"
     ]
    },
    {
     "name": "stdout",
     "output_type": "stream",
     "text": [
      "Processing date: 20150502\n"
     ]
    },
    {
     "data": {
      "application/vnd.jupyter.widget-view+json": {
       "model_id": "868c4434d5e04c2b88fe5db7188f9e3e",
       "version_major": 2,
       "version_minor": 0
      },
      "text/plain": [
       "Executing:   0%|          | 0/19 [00:00<?, ?cell/s]"
      ]
     },
     "metadata": {},
     "output_type": "display_data"
    },
    {
     "name": "stderr",
     "output_type": "stream",
     "text": [
      "0.00s - Debugger warning: It seems that frozen modules are being used, which may\n",
      "0.00s - make the debugger miss breakpoints. Please pass -Xfrozen_modules=off\n",
      "0.00s - to python to disable frozen modules.\n",
      "0.00s - Note: Debugging will proceed. Set PYDEVD_DISABLE_FILE_VALIDATION=1 to disable this validation.\n"
     ]
    },
    {
     "name": "stdout",
     "output_type": "stream",
     "text": [
      "Processing date: 20150526\n"
     ]
    },
    {
     "data": {
      "application/vnd.jupyter.widget-view+json": {
       "model_id": "47a2da8a795d4ba6bd143c386bf7af8c",
       "version_major": 2,
       "version_minor": 0
      },
      "text/plain": [
       "Executing:   0%|          | 0/19 [00:00<?, ?cell/s]"
      ]
     },
     "metadata": {},
     "output_type": "display_data"
    },
    {
     "name": "stderr",
     "output_type": "stream",
     "text": [
      "0.00s - Debugger warning: It seems that frozen modules are being used, which may\n",
      "0.00s - make the debugger miss breakpoints. Please pass -Xfrozen_modules=off\n",
      "0.00s - to python to disable frozen modules.\n",
      "0.00s - Note: Debugging will proceed. Set PYDEVD_DISABLE_FILE_VALIDATION=1 to disable this validation.\n"
     ]
    },
    {
     "name": "stdout",
     "output_type": "stream",
     "text": [
      "Processing date: 20150607\n"
     ]
    },
    {
     "data": {
      "application/vnd.jupyter.widget-view+json": {
       "model_id": "cd3bf9874cd14885ab1d724ff16fa50c",
       "version_major": 2,
       "version_minor": 0
      },
      "text/plain": [
       "Executing:   0%|          | 0/19 [00:00<?, ?cell/s]"
      ]
     },
     "metadata": {},
     "output_type": "display_data"
    },
    {
     "name": "stderr",
     "output_type": "stream",
     "text": [
      "0.00s - Debugger warning: It seems that frozen modules are being used, which may\n",
      "0.00s - make the debugger miss breakpoints. Please pass -Xfrozen_modules=off\n",
      "0.00s - to python to disable frozen modules.\n",
      "0.00s - Note: Debugging will proceed. Set PYDEVD_DISABLE_FILE_VALIDATION=1 to disable this validation.\n"
     ]
    },
    {
     "name": "stdout",
     "output_type": "stream",
     "text": [
      "Processing date: 20150619\n"
     ]
    },
    {
     "data": {
      "application/vnd.jupyter.widget-view+json": {
       "model_id": "e0a7ef7edf654a38b294dad14c94b3e6",
       "version_major": 2,
       "version_minor": 0
      },
      "text/plain": [
       "Executing:   0%|          | 0/19 [00:00<?, ?cell/s]"
      ]
     },
     "metadata": {},
     "output_type": "display_data"
    },
    {
     "name": "stderr",
     "output_type": "stream",
     "text": [
      "0.00s - Debugger warning: It seems that frozen modules are being used, which may\n",
      "0.00s - make the debugger miss breakpoints. Please pass -Xfrozen_modules=off\n",
      "0.00s - to python to disable frozen modules.\n",
      "0.00s - Note: Debugging will proceed. Set PYDEVD_DISABLE_FILE_VALIDATION=1 to disable this validation.\n"
     ]
    },
    {
     "name": "stdout",
     "output_type": "stream",
     "text": [
      "Processing date: 20150701\n"
     ]
    },
    {
     "data": {
      "application/vnd.jupyter.widget-view+json": {
       "model_id": "534d4b54402c4ec4a683710976086483",
       "version_major": 2,
       "version_minor": 0
      },
      "text/plain": [
       "Executing:   0%|          | 0/19 [00:00<?, ?cell/s]"
      ]
     },
     "metadata": {},
     "output_type": "display_data"
    },
    {
     "name": "stderr",
     "output_type": "stream",
     "text": [
      "0.00s - Debugger warning: It seems that frozen modules are being used, which may\n",
      "0.00s - make the debugger miss breakpoints. Please pass -Xfrozen_modules=off\n",
      "0.00s - to python to disable frozen modules.\n",
      "0.00s - Note: Debugging will proceed. Set PYDEVD_DISABLE_FILE_VALIDATION=1 to disable this validation.\n"
     ]
    },
    {
     "name": "stdout",
     "output_type": "stream",
     "text": [
      "Processing date: 20150713\n"
     ]
    },
    {
     "data": {
      "application/vnd.jupyter.widget-view+json": {
       "model_id": "4e37ae9b728443feabfc2ab78290bc5f",
       "version_major": 2,
       "version_minor": 0
      },
      "text/plain": [
       "Executing:   0%|          | 0/19 [00:00<?, ?cell/s]"
      ]
     },
     "metadata": {},
     "output_type": "display_data"
    },
    {
     "name": "stderr",
     "output_type": "stream",
     "text": [
      "0.00s - Debugger warning: It seems that frozen modules are being used, which may\n",
      "0.00s - make the debugger miss breakpoints. Please pass -Xfrozen_modules=off\n",
      "0.00s - to python to disable frozen modules.\n",
      "0.00s - Note: Debugging will proceed. Set PYDEVD_DISABLE_FILE_VALIDATION=1 to disable this validation.\n"
     ]
    },
    {
     "name": "stdout",
     "output_type": "stream",
     "text": [
      "Processing date: 20150725\n"
     ]
    },
    {
     "data": {
      "application/vnd.jupyter.widget-view+json": {
       "model_id": "78b4396a1963461abe02a628964fcd3b",
       "version_major": 2,
       "version_minor": 0
      },
      "text/plain": [
       "Executing:   0%|          | 0/19 [00:00<?, ?cell/s]"
      ]
     },
     "metadata": {},
     "output_type": "display_data"
    },
    {
     "name": "stderr",
     "output_type": "stream",
     "text": [
      "0.00s - Debugger warning: It seems that frozen modules are being used, which may\n",
      "0.00s - make the debugger miss breakpoints. Please pass -Xfrozen_modules=off\n",
      "0.00s - to python to disable frozen modules.\n",
      "0.00s - Note: Debugging will proceed. Set PYDEVD_DISABLE_FILE_VALIDATION=1 to disable this validation.\n"
     ]
    },
    {
     "name": "stdout",
     "output_type": "stream",
     "text": [
      "Processing date: 20150806\n"
     ]
    },
    {
     "data": {
      "application/vnd.jupyter.widget-view+json": {
       "model_id": "f740c15d870849318a603703d765b4e2",
       "version_major": 2,
       "version_minor": 0
      },
      "text/plain": [
       "Executing:   0%|          | 0/19 [00:00<?, ?cell/s]"
      ]
     },
     "metadata": {},
     "output_type": "display_data"
    },
    {
     "name": "stderr",
     "output_type": "stream",
     "text": [
      "0.00s - Debugger warning: It seems that frozen modules are being used, which may\n",
      "0.00s - make the debugger miss breakpoints. Please pass -Xfrozen_modules=off\n",
      "0.00s - to python to disable frozen modules.\n",
      "0.00s - Note: Debugging will proceed. Set PYDEVD_DISABLE_FILE_VALIDATION=1 to disable this validation.\n"
     ]
    },
    {
     "name": "stdout",
     "output_type": "stream",
     "text": [
      "Processing date: 20150818\n"
     ]
    },
    {
     "data": {
      "application/vnd.jupyter.widget-view+json": {
       "model_id": "10d6ff34c41f4da193f15c9763502afe",
       "version_major": 2,
       "version_minor": 0
      },
      "text/plain": [
       "Executing:   0%|          | 0/19 [00:00<?, ?cell/s]"
      ]
     },
     "metadata": {},
     "output_type": "display_data"
    },
    {
     "name": "stderr",
     "output_type": "stream",
     "text": [
      "0.00s - Debugger warning: It seems that frozen modules are being used, which may\n",
      "0.00s - make the debugger miss breakpoints. Please pass -Xfrozen_modules=off\n",
      "0.00s - to python to disable frozen modules.\n",
      "0.00s - Note: Debugging will proceed. Set PYDEVD_DISABLE_FILE_VALIDATION=1 to disable this validation.\n"
     ]
    },
    {
     "name": "stdout",
     "output_type": "stream",
     "text": [
      "Processing date: 20150830\n"
     ]
    },
    {
     "data": {
      "application/vnd.jupyter.widget-view+json": {
       "model_id": "b5b1512b48574ba08ae32b315208aca8",
       "version_major": 2,
       "version_minor": 0
      },
      "text/plain": [
       "Executing:   0%|          | 0/19 [00:00<?, ?cell/s]"
      ]
     },
     "metadata": {},
     "output_type": "display_data"
    },
    {
     "name": "stderr",
     "output_type": "stream",
     "text": [
      "0.00s - Debugger warning: It seems that frozen modules are being used, which may\n",
      "0.00s - make the debugger miss breakpoints. Please pass -Xfrozen_modules=off\n",
      "0.00s - to python to disable frozen modules.\n",
      "0.00s - Note: Debugging will proceed. Set PYDEVD_DISABLE_FILE_VALIDATION=1 to disable this validation.\n"
     ]
    },
    {
     "name": "stdout",
     "output_type": "stream",
     "text": [
      "Processing date: 20150911\n"
     ]
    },
    {
     "data": {
      "application/vnd.jupyter.widget-view+json": {
       "model_id": "d9a6c68c47044f02865d184a010135f1",
       "version_major": 2,
       "version_minor": 0
      },
      "text/plain": [
       "Executing:   0%|          | 0/19 [00:00<?, ?cell/s]"
      ]
     },
     "metadata": {},
     "output_type": "display_data"
    },
    {
     "name": "stderr",
     "output_type": "stream",
     "text": [
      "0.00s - Debugger warning: It seems that frozen modules are being used, which may\n",
      "0.00s - make the debugger miss breakpoints. Please pass -Xfrozen_modules=off\n",
      "0.00s - to python to disable frozen modules.\n",
      "0.00s - Note: Debugging will proceed. Set PYDEVD_DISABLE_FILE_VALIDATION=1 to disable this validation.\n"
     ]
    },
    {
     "name": "stdout",
     "output_type": "stream",
     "text": [
      "Processing date: 20151017\n"
     ]
    },
    {
     "data": {
      "application/vnd.jupyter.widget-view+json": {
       "model_id": "685455721770417a917f5400e565a770",
       "version_major": 2,
       "version_minor": 0
      },
      "text/plain": [
       "Executing:   0%|          | 0/19 [00:00<?, ?cell/s]"
      ]
     },
     "metadata": {},
     "output_type": "display_data"
    },
    {
     "name": "stderr",
     "output_type": "stream",
     "text": [
      "0.00s - Debugger warning: It seems that frozen modules are being used, which may\n",
      "0.00s - make the debugger miss breakpoints. Please pass -Xfrozen_modules=off\n",
      "0.00s - to python to disable frozen modules.\n",
      "0.00s - Note: Debugging will proceed. Set PYDEVD_DISABLE_FILE_VALIDATION=1 to disable this validation.\n"
     ]
    },
    {
     "name": "stdout",
     "output_type": "stream",
     "text": [
      "Processing date: 20151029\n"
     ]
    },
    {
     "data": {
      "application/vnd.jupyter.widget-view+json": {
       "model_id": "66ee733ae11f4a75be78b884f52e2d3c",
       "version_major": 2,
       "version_minor": 0
      },
      "text/plain": [
       "Executing:   0%|          | 0/19 [00:00<?, ?cell/s]"
      ]
     },
     "metadata": {},
     "output_type": "display_data"
    },
    {
     "name": "stderr",
     "output_type": "stream",
     "text": [
      "0.00s - Debugger warning: It seems that frozen modules are being used, which may\n",
      "0.00s - make the debugger miss breakpoints. Please pass -Xfrozen_modules=off\n",
      "0.00s - to python to disable frozen modules.\n",
      "0.00s - Note: Debugging will proceed. Set PYDEVD_DISABLE_FILE_VALIDATION=1 to disable this validation.\n"
     ]
    },
    {
     "ename": "PapermillExecutionError",
     "evalue": "\n---------------------------------------------------------------------------\nException encountered at \"In [10]\":\n---------------------------------------------------------------------------\nValueError                                Traceback (most recent call last)\nValueError: could not convert string to float: ''\n\nThe above exception was the direct cause of the following exception:\n\nValueError                                Traceback (most recent call last)\nCell In[10], line 17\n     11 xyz = _elp.lon_lat_to_xyz(llh) #xyz coordinate of CR\n     13 # compute SET via pysolid\n     14 (dt_out,\n     15  tide_e,\n     16  tide_n,\n---> 17  tide_u) = pysolid.calc_solid_earth_tides_point(np.rad2deg(llh[1]), np.rad2deg(llh[0]), dt0, dt1,\n     18                                             step_sec=step_sec,\n     19                                             display=False,\n     20                                             verbose=False)\n     22 tide_e = np.mean(tide_e[0:2])\n     23 tide_n = np.mean(tide_n[0:2])\n\nFile /mnt/trappist-r0/bato/tools/anaconda3/envs/calval-CSLC/lib/python3.11/site-packages/pysolid/point.py:117, in calc_solid_earth_tides_point(lat, lon, dt0, dt1, step_sec, display, verbose)\n    111     print('SOLID  : {} {}/{} ...'.format(di.isoformat(), i+1, ndays))\n    113 # calc tide_u/n/u for the whole day\n    114 (dt_outi,\n    115  tide_ei,\n    116  tide_ni,\n--> 117  tide_ui) = calc_solid_earth_tides_point_per_day(lat, lon,\n    118                                                  date_str=di.strftime('%Y%m%d'),\n    119                                                  step_sec=int(step_sec))\n    121 # flag to mark the first/last datetime\n    122 if i == 0:\n\nFile /mnt/trappist-r0/bato/tools/anaconda3/envs/calval-CSLC/lib/python3.11/site-packages/pysolid/point.py:184, in calc_solid_earth_tides_point_per_day(lat, lon, date_str, step_sec)\n    182 ## read data from text file\n    183 num_row = int(24 * 60 * 60 / step_sec)\n--> 184 fc = np.loadtxt(txt_file,\n    185                 dtype=float,\n    186                 delimiter=',',\n    187                 skiprows=0,\n    188                 max_rows=num_row)\n    190 tide_e = fc[:, 1].flatten()\n    191 tide_n = fc[:, 2].flatten()\n\nFile /mnt/trappist-r0/bato/tools/anaconda3/envs/calval-CSLC/lib/python3.11/site-packages/numpy/lib/npyio.py:1356, in loadtxt(fname, dtype, comments, delimiter, converters, skiprows, usecols, unpack, ndmin, encoding, max_rows, quotechar, like)\n   1353 if isinstance(delimiter, bytes):\n   1354     delimiter = delimiter.decode('latin1')\n-> 1356 arr = _read(fname, dtype=dtype, comment=comment, delimiter=delimiter,\n   1357             converters=converters, skiplines=skiprows, usecols=usecols,\n   1358             unpack=unpack, ndmin=ndmin, encoding=encoding,\n   1359             max_rows=max_rows, quote=quotechar)\n   1361 return arr\n\nFile /mnt/trappist-r0/bato/tools/anaconda3/envs/calval-CSLC/lib/python3.11/site-packages/numpy/lib/npyio.py:999, in _read(fname, delimiter, comment, quote, imaginary_unit, usecols, skiplines, max_rows, converters, ndmin, unpack, dtype, encoding)\n    996     data = _preprocess_comments(data, comments, encoding)\n    998 if read_dtype_via_object_chunks is None:\n--> 999     arr = _load_from_filelike(\n   1000         data, delimiter=delimiter, comment=comment, quote=quote,\n   1001         imaginary_unit=imaginary_unit,\n   1002         usecols=usecols, skiplines=skiplines, max_rows=max_rows,\n   1003         converters=converters, dtype=dtype,\n   1004         encoding=encoding, filelike=filelike,\n   1005         byte_converters=byte_converters)\n   1007 else:\n   1008     # This branch reads the file into chunks of object arrays and then\n   1009     # casts them to the desired actual dtype.  This ensures correct\n   1010     # string-length and datetime-unit discovery (like `arr.astype()`).\n   1011     # Due to chunking, certain error reports are less clear, currently.\n   1012     if filelike:\n\nValueError: could not convert string '\\x00\\x00\\x00\\x00\\x00\\x00\\x00\\x00\\x00\\x00\\x00\\x00\\x00\\x00\\x00\\x00\\x00\\x00\\x00\\x00\\x00\\x00\\x00\\x00\\x0 to float64 at row 8856, column 1.\n",
     "output_type": "error",
     "traceback": [
      "\u001b[0;31m---------------------------------------------------------------------------\u001b[0m",
      "\u001b[0;31mPapermillExecutionError\u001b[0m                   Traceback (most recent call last)",
      "Cell \u001b[0;32mIn[4], line 3\u001b[0m\n\u001b[1;32m      1\u001b[0m \u001b[39mfor\u001b[39;00m d \u001b[39min\u001b[39;00m datels:\n\u001b[1;32m      2\u001b[0m     \u001b[39mprint\u001b[39m(\u001b[39mf\u001b[39m\u001b[39m'\u001b[39m\u001b[39mProcessing date: \u001b[39m\u001b[39m{\u001b[39;00md\u001b[39m}\u001b[39;00m\u001b[39m'\u001b[39m)\n\u001b[0;32m----> 3\u001b[0m     pm\u001b[39m.\u001b[39;49mexecute_notebook(\u001b[39m'\u001b[39;49m\u001b[39mALE_withDeramp.ipynb\u001b[39;49m\u001b[39m'\u001b[39;49m,\n\u001b[1;32m      4\u001b[0m                         \u001b[39mf\u001b[39;49m\u001b[39m'\u001b[39;49m\u001b[39mALE_withDeramp_\u001b[39;49m\u001b[39m{\u001b[39;49;00md\u001b[39m}\u001b[39;49;00m\u001b[39m.ipynb\u001b[39;49m\u001b[39m'\u001b[39;49m,\n\u001b[1;32m      5\u001b[0m                         parameters\u001b[39m=\u001b[39;49m{\u001b[39m'\u001b[39;49m\u001b[39mwdir\u001b[39;49m\u001b[39m'\u001b[39;49m:\u001b[39m'\u001b[39;49m\u001b[39m/mnt/trappist-r0/bato/work/ROSAMOND/COMPASS_TEST/A064/stack/\u001b[39;49m\u001b[39m'\u001b[39;49m,\n\u001b[1;32m      6\u001b[0m                                     \u001b[39m'\u001b[39;49m\u001b[39mburst_id\u001b[39;49m\u001b[39m'\u001b[39;49m:\u001b[39m'\u001b[39;49m\u001b[39mt064_135523_iw2\u001b[39;49m\u001b[39m'\u001b[39;49m,\n\u001b[1;32m      7\u001b[0m                                     \u001b[39m'\u001b[39;49m\u001b[39mdate\u001b[39;49m\u001b[39m'\u001b[39;49m:d},\n\u001b[1;32m      8\u001b[0m                         kernel_name\u001b[39m=\u001b[39;49m\u001b[39m'\u001b[39;49m\u001b[39mcalval-CSLC\u001b[39;49m\u001b[39m'\u001b[39;49m)\n",
      "File \u001b[0;32m/mnt/trappist-r0/bato/tools/anaconda3/envs/calval-CSLC/lib/python3.11/site-packages/papermill/execute.py:122\u001b[0m, in \u001b[0;36mexecute_notebook\u001b[0;34m(input_path, output_path, parameters, engine_name, request_save_on_cell_execute, prepare_only, kernel_name, language, progress_bar, log_output, stdout_file, stderr_file, start_timeout, report_mode, cwd, **engine_kwargs)\u001b[0m\n\u001b[1;32m    107\u001b[0m         nb \u001b[39m=\u001b[39m papermill_engines\u001b[39m.\u001b[39mexecute_notebook_with_engine(\n\u001b[1;32m    108\u001b[0m             engine_name,\n\u001b[1;32m    109\u001b[0m             nb,\n\u001b[0;32m   (...)\u001b[0m\n\u001b[1;32m    118\u001b[0m             \u001b[39m*\u001b[39m\u001b[39m*\u001b[39mengine_kwargs\n\u001b[1;32m    119\u001b[0m         )\n\u001b[1;32m    121\u001b[0m     \u001b[39m# Check for errors first (it saves on error before raising)\u001b[39;00m\n\u001b[0;32m--> 122\u001b[0m     raise_for_execution_errors(nb, output_path)\n\u001b[1;32m    124\u001b[0m \u001b[39m# Write final output in case the engine didn't write it on cell completion.\u001b[39;00m\n\u001b[1;32m    125\u001b[0m write_ipynb(nb, output_path)\n",
      "File \u001b[0;32m/mnt/trappist-r0/bato/tools/anaconda3/envs/calval-CSLC/lib/python3.11/site-packages/papermill/execute.py:234\u001b[0m, in \u001b[0;36mraise_for_execution_errors\u001b[0;34m(nb, output_path)\u001b[0m\n\u001b[1;32m    231\u001b[0m nb\u001b[39m.\u001b[39mcells\u001b[39m.\u001b[39minsert(\u001b[39m0\u001b[39m, error_msg_cell)\n\u001b[1;32m    233\u001b[0m write_ipynb(nb, output_path)\n\u001b[0;32m--> 234\u001b[0m \u001b[39mraise\u001b[39;00m error\n",
      "\u001b[0;31mPapermillExecutionError\u001b[0m: \n---------------------------------------------------------------------------\nException encountered at \"In [10]\":\n---------------------------------------------------------------------------\nValueError                                Traceback (most recent call last)\nValueError: could not convert string to float: ''\n\nThe above exception was the direct cause of the following exception:\n\nValueError                                Traceback (most recent call last)\nCell In[10], line 17\n     11 xyz = _elp.lon_lat_to_xyz(llh) #xyz coordinate of CR\n     13 # compute SET via pysolid\n     14 (dt_out,\n     15  tide_e,\n     16  tide_n,\n---> 17  tide_u) = pysolid.calc_solid_earth_tides_point(np.rad2deg(llh[1]), np.rad2deg(llh[0]), dt0, dt1,\n     18                                             step_sec=step_sec,\n     19                                             display=False,\n     20                                             verbose=False)\n     22 tide_e = np.mean(tide_e[0:2])\n     23 tide_n = np.mean(tide_n[0:2])\n\nFile /mnt/trappist-r0/bato/tools/anaconda3/envs/calval-CSLC/lib/python3.11/site-packages/pysolid/point.py:117, in calc_solid_earth_tides_point(lat, lon, dt0, dt1, step_sec, display, verbose)\n    111     print('SOLID  : {} {}/{} ...'.format(di.isoformat(), i+1, ndays))\n    113 # calc tide_u/n/u for the whole day\n    114 (dt_outi,\n    115  tide_ei,\n    116  tide_ni,\n--> 117  tide_ui) = calc_solid_earth_tides_point_per_day(lat, lon,\n    118                                                  date_str=di.strftime('%Y%m%d'),\n    119                                                  step_sec=int(step_sec))\n    121 # flag to mark the first/last datetime\n    122 if i == 0:\n\nFile /mnt/trappist-r0/bato/tools/anaconda3/envs/calval-CSLC/lib/python3.11/site-packages/pysolid/point.py:184, in calc_solid_earth_tides_point_per_day(lat, lon, date_str, step_sec)\n    182 ## read data from text file\n    183 num_row = int(24 * 60 * 60 / step_sec)\n--> 184 fc = np.loadtxt(txt_file,\n    185                 dtype=float,\n    186                 delimiter=',',\n    187                 skiprows=0,\n    188                 max_rows=num_row)\n    190 tide_e = fc[:, 1].flatten()\n    191 tide_n = fc[:, 2].flatten()\n\nFile /mnt/trappist-r0/bato/tools/anaconda3/envs/calval-CSLC/lib/python3.11/site-packages/numpy/lib/npyio.py:1356, in loadtxt(fname, dtype, comments, delimiter, converters, skiprows, usecols, unpack, ndmin, encoding, max_rows, quotechar, like)\n   1353 if isinstance(delimiter, bytes):\n   1354     delimiter = delimiter.decode('latin1')\n-> 1356 arr = _read(fname, dtype=dtype, comment=comment, delimiter=delimiter,\n   1357             converters=converters, skiplines=skiprows, usecols=usecols,\n   1358             unpack=unpack, ndmin=ndmin, encoding=encoding,\n   1359             max_rows=max_rows, quote=quotechar)\n   1361 return arr\n\nFile /mnt/trappist-r0/bato/tools/anaconda3/envs/calval-CSLC/lib/python3.11/site-packages/numpy/lib/npyio.py:999, in _read(fname, delimiter, comment, quote, imaginary_unit, usecols, skiplines, max_rows, converters, ndmin, unpack, dtype, encoding)\n    996     data = _preprocess_comments(data, comments, encoding)\n    998 if read_dtype_via_object_chunks is None:\n--> 999     arr = _load_from_filelike(\n   1000         data, delimiter=delimiter, comment=comment, quote=quote,\n   1001         imaginary_unit=imaginary_unit,\n   1002         usecols=usecols, skiplines=skiplines, max_rows=max_rows,\n   1003         converters=converters, dtype=dtype,\n   1004         encoding=encoding, filelike=filelike,\n   1005         byte_converters=byte_converters)\n   1007 else:\n   1008     # This branch reads the file into chunks of object arrays and then\n   1009     # casts them to the desired actual dtype.  This ensures correct\n   1010     # string-length and datetime-unit discovery (like `arr.astype()`).\n   1011     # Due to chunking, certain error reports are less clear, currently.\n   1012     if filelike:\n\nValueError: could not convert string '\\x00\\x00\\x00\\x00\\x00\\x00\\x00\\x00\\x00\\x00\\x00\\x00\\x00\\x00\\x00\\x00\\x00\\x00\\x00\\x00\\x00\\x00\\x00\\x00\\x0 to float64 at row 8856, column 1.\n"
     ]
    }
   ],
   "source": [
    "for d in datels:\n",
    "    print(f'Processing date: {d}')\n",
    "    pm.execute_notebook('ALE_withDeramp.ipynb',\n",
    "                        f'ALE_withDeramp_{d}.ipynb',\n",
    "                        parameters={'wdir':'/mnt/trappist-r0/bato/work/ROSAMOND/COMPASS_TEST/A064/stack/',\n",
    "                                    'burst_id':'t064_135523_iw2',\n",
    "                                    'date':d},\n",
    "                        kernel_name='calval-CSLC')"
   ]
  }
 ],
 "metadata": {
  "kernelspec": {
   "display_name": "calval-CSLC",
   "language": "python",
   "name": "python3"
  },
  "language_info": {
   "codemirror_mode": {
    "name": "ipython",
    "version": 3
   },
   "file_extension": ".py",
   "mimetype": "text/x-python",
   "name": "python",
   "nbconvert_exporter": "python",
   "pygments_lexer": "ipython3",
   "version": "3.11.0"
  },
  "orig_nbformat": 4,
  "vscode": {
   "interpreter": {
    "hash": "0e8ee473b4edd1175fb27c653b82f66536cc265e72f97271178d674324e04ff4"
   }
  }
 },
 "nbformat": 4,
 "nbformat_minor": 2
}
