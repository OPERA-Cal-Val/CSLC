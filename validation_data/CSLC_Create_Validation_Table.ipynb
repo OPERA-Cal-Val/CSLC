{
 "cells": [
  {
   "attachments": {},
   "cell_type": "markdown",
   "metadata": {},
   "source": [
    "# Workflow to create and maintain the validation table for CSLC Cal/Val\n",
    "\n",
    "This notebook demonstrates how to query the public S3 bucket hosting granules associated with bursts identified for CSLC Cal/Val activities.\n",
    "\n",
    "Specifically the motivation here to access + record the preqrequiste information from each granule in order to virtually perform Cal/Val analyses.\n",
    "\n",
    "For reference, the following resources were used to help create this notebook:\n",
    "https://alexwlchan.net/2017/listing-s3-keys/\n",
    "https://github.com/boto/boto3/issues/1200"
   ]
  },
  {
   "attachments": {},
   "cell_type": "markdown",
   "metadata": {},
   "source": [
    "## Load prerequisite modules"
   ]
  },
  {
   "cell_type": "code",
   "execution_count": 1,
   "metadata": {},
   "outputs": [],
   "source": [
    "import boto3\n",
    "from botocore import UNSIGNED\n",
    "from botocore.config import Config\n",
    "\n",
    "import fsspec\n",
    "\n",
    "import geopandas as gpd\n",
    "\n",
    "import h5py\n",
    "\n",
    "import pandas as pd\n",
    "\n",
    "from pathlib import Path\n",
    "\n",
    "import shapely.wkt as wkt"
   ]
  },
  {
   "attachments": {},
   "cell_type": "markdown",
   "metadata": {},
   "source": [
    "## Static variables that identify S3 paths to data\n",
    "\n",
    "<div class=\"alert alert-warning\">\n",
    "Only change IF you know what you are doing (i.e. itentional changes to reflect hypothetical migration of validation data).\n",
    "</div>"
   ]
  },
  {
   "cell_type": "code",
   "execution_count": 2,
   "metadata": {},
   "outputs": [],
   "source": [
    "# set S3 path variables\n",
    "bucket = 'opera-pst-rs-pop1'\n",
    "prefix = 'products/CSLC_S1'\n",
    "suffix = 'Z.h5'\n",
    "s3_path = f's3://{bucket}'\n",
    "DATA_ROOT = 'science/SENTINEL1'\n",
    "\n",
    "# track specific version and corresponding static layer\n",
    "version_num = '0.1'\n",
    "if version_num == '0.0':\n",
    "    static_suffix = '_static_layers.h5'\n",
    "    id_path = f'{DATA_ROOT}/identification'\n",
    "if version_num == '0.1':\n",
    "    static_suffix = '_Static.h5'\n",
    "    id_path = f'identification'\n",
    "\n",
    "# For priority bursts, specify: validation_bursts_priority_v0.1.csv\n",
    "# For all bursts, specify: validation_bursts_all_v0.1.csv\n",
    "validation_bursts = Path(f'validation_bursts_priority_v{version_num}.csv')\n",
    "\n",
    "# Set name of output containing all burst products for streaming\n",
    "validation_csv = Path(f'table_{validation_bursts}')"
   ]
  },
  {
   "attachments": {},
   "cell_type": "markdown",
   "metadata": {},
   "source": [
    "## Load function to query S3 bucket"
   ]
  },
  {
   "cell_type": "code",
   "execution_count": 3,
   "metadata": {},
   "outputs": [],
   "source": [
    "def get_matching_s3_keys(bucket, prefix='', suffix='', burstId='', version_num=''):\n",
    "    \"\"\"\n",
    "    Generate the keys in an S3 bucket.\n",
    "\n",
    "    :param bucket: Name of the S3 bucket.\n",
    "    :param prefix: Only fetch keys that start with this prefix.\n",
    "    :param suffix: Only fetch keys that end with this suffix.\n",
    "    :param burstId: Only fetch keys that match burstId.\n",
    "    :param burstId: Only fetch keys that match version num.\n",
    "    \"\"\"\n",
    "    s3 = boto3.client('s3', config=Config(signature_version=UNSIGNED))\n",
    "    kwargs = {'Bucket': bucket}\n",
    "\n",
    "    # If the prefix is a single string (not a tuple of strings), we can\n",
    "    # do the filtering directly in the S3 API.\n",
    "    # Efficiently capture only matches that share relevant filename prefix\n",
    "    if isinstance(prefix, str):\n",
    "        kwargs['Prefix'] = prefix + '/' + burstId\n",
    "\n",
    "    # set versioning string\n",
    "    version_num = '_v' + version_num + '_'\n",
    "\n",
    "    # Max query for `list_object_v2` is only 1000\n",
    "    # Need to institute while loop to circumvent\n",
    "    while True:\n",
    "        # 'Contents' contains information about the listed objects\n",
    "        # Sort by last modified in order to get most recent static layer\n",
    "        resp = s3.list_objects_v2(**kwargs)\n",
    "\n",
    "        try:\n",
    "            valid_results = resp['Contents']\n",
    "        except KeyError: \n",
    "            break\n",
    "            \n",
    "        get_last_modified = lambda valid_results: int(valid_results['LastModified'].strftime('%s'))\n",
    "        valid_results = [obj['Key'] for obj in sorted(valid_results, key=get_last_modified)]\n",
    "\n",
    "        # filter by suffix, version number, and remove legacy products\n",
    "        valid_results = [i for i in valid_results if i.endswith(suffix)]\n",
    "        valid_results = [i for i in valid_results if version_num in i]\n",
    "        valid_results = [i for i in valid_results if '_v0.0_202303' not in i]\n",
    "        for key in valid_results:\n",
    "            yield key\n",
    "\n",
    "        # The S3 API is paginated, returning up to 1000 keys at a time.\n",
    "        # Pass the continuation token into the next response, until we\n",
    "        # reach the final page (when this field is missing).\n",
    "        try:\n",
    "            kwargs['ContinuationToken'] = resp['NextContinuationToken']\n",
    "        except KeyError:\n",
    "            break\n",
    "\n",
    "    return"
   ]
  },
  {
   "attachments": {},
   "cell_type": "markdown",
   "metadata": {},
   "source": [
    "## Access or initiate validation table containing links to S3 bucket"
   ]
  },
  {
   "cell_type": "code",
   "execution_count": 4,
   "metadata": {},
   "outputs": [],
   "source": [
    "# access dataframe from file, if it exists\n",
    "if validation_csv.is_file():\n",
    "    df = pd.read_csv(validation_csv)\n",
    "    validation_bursts_df = gpd.GeoDataFrame(\n",
    "        df.loc[:, [c for c in df.columns if c != \"geometry\"]],\n",
    "        geometry=gpd.GeoSeries.from_wkt(df[\"geometry\"])\n",
    "        )\n",
    "else:\n",
    "    # otherwise, initialize dataframe\n",
    "    validation_bursts_df = gpd.GeoDataFrame()\n",
    "    # add placeholder columns\n",
    "    validation_bursts_df['burst_id'] = None\n",
    "    validation_bursts_df['date'] = None\n",
    "    validation_bursts_df['cslc_url'] = None\n",
    "    validation_bursts_df['cslc_static_url'] = None"
   ]
  },
  {
   "attachments": {},
   "cell_type": "markdown",
   "metadata": {},
   "source": [
    "## Access premade, static table containing all bursts identified for CSLC Cal/Val activities"
   ]
  },
  {
   "cell_type": "code",
   "execution_count": 5,
   "metadata": {},
   "outputs": [],
   "source": [
    "# read list of bursts used for validation\n",
    "if validation_bursts.is_file():\n",
    "    df = pd.read_csv(validation_bursts)\n",
    "    burstId_list = df['burst_id'].to_list()\n",
    "else:\n",
    "    raise Exception(f'Expected burst record {validation_bursts.absolute()} '\n",
    "                    'not found. Check working directory.')"
   ]
  },
  {
   "attachments": {},
   "cell_type": "markdown",
   "metadata": {},
   "source": [
    "## Query server and build up validation table"
   ]
  },
  {
   "cell_type": "code",
   "execution_count": 6,
   "metadata": {},
   "outputs": [
    {
     "name": "stdout",
     "output_type": "stream",
     "text": [
      "BurstID: t064_135523_iw2, sensor: S1A\n",
      "BurstID: t064_135523_iw2, sensor: S1B\n",
      "BurstID: t071_151224_iw2, sensor: S1A\n",
      "BurstID: t071_151224_iw2, sensor: S1B\n",
      "BurstID: t107_227888_iw2, sensor: S1A\n",
      "BurstID: t107_227888_iw2, sensor: S1B\n"
     ]
    }
   ],
   "source": [
    "# query products on S3 bucket\n",
    "burstId_list = ['t064_135523_iw2','t071_151224_iw2','t107_227888_iw2'] #!# temp hardcode\n",
    "for burstId in burstId_list:\n",
    "    for sensor in ['S1A','S1B']:\n",
    "        print(f'BurstID: {burstId}, sensor: {sensor}')\n",
    "\n",
    "        # adjust burst strings to reflect product name convention\n",
    "        query_burstId = burstId.upper().replace('_','-')\n",
    "        cslc_url_base = 'OPERA_L2_CSLC-'+sensor+'_IW_' + query_burstId + '_VV_'\n",
    "        cslc_static_url = None\n",
    "        for key in get_matching_s3_keys(bucket=bucket,\n",
    "                                        prefix=prefix,\n",
    "                                        suffix=suffix,\n",
    "                                        burstId=cslc_url_base,\n",
    "                                        version_num=version_num):\n",
    "            # only proceed if file not already captured in records\n",
    "            # and only if there is a valid corresponding static layer\n",
    "            cslc_url = f'{s3_path}/{key}'\n",
    "            cslc_static_url_base = Path(cslc_url)\n",
    "            cslc_static_url_base = cslc_static_url_base.parent.name.split(f'_v{version_num}_')[0]\n",
    "\n",
    "            # 0.1 static layers have different naming conventions\n",
    "            # which do not reflect a given acquisition date\n",
    "            if version_num == '0.1':\n",
    "                cslc_static_url_base = 'OPERA_L2_CSLC-'+sensor+'_IW_' + query_burstId + '_VV_'\n",
    "            \n",
    "            # avoid querying the same static URL for v0.1\n",
    "            # for which it is the same for each burst\n",
    "            if cslc_static_url == None or version_num == '0.0':\n",
    "                for static_key in get_matching_s3_keys(bucket=bucket,\n",
    "                                                    prefix=prefix,\n",
    "                                                    suffix=static_suffix,\n",
    "                                                    burstId=cslc_static_url_base,\n",
    "                                                    version_num=version_num):\n",
    "                    if static_key is not None:\n",
    "                        cslc_static_url = f'{s3_path}/{static_key}'\n",
    "                        break\n",
    "\n",
    "            if cslc_url not in validation_bursts_df['cslc_url'].values.astype(str):\n",
    "                # get date\n",
    "                file_path = Path(key)\n",
    "                filename = file_path.name\n",
    "                date = filename.split('_')[-3][:8]\n",
    "\n",
    "                # check if geometry for burst already in df\n",
    "                geom_check = validation_bursts_df['burst_id'] == burstId\n",
    "                idx_geo = next(iter(geom_check.index[geom_check]), False)\n",
    "                if idx_geo != False:\n",
    "                    geometry = validation_bursts_df.loc[idx_geo]['geometry']\n",
    "                else:\n",
    "                    # otherwise, read file to access geometry\n",
    "                    s3f = fsspec.open(cslc_url, mode='rb', anon=True,\n",
    "                                        default_fill_cache=False)\n",
    "                    with h5py.File(s3f.open(),'r') as h5:\n",
    "                        if version_num == '0.0':\n",
    "                            geometry = h5[f'{id_path}/'\n",
    "                                        'bounding_polygon'][()].astype(str)\n",
    "                        if version_num == '0.1':\n",
    "                            geometry = h5[f'{id_path}/'\n",
    "                                        'bounding_polygon'][()].astype(str)\n",
    "                    geometry = wkt.loads(geometry)\n",
    "\n",
    "                # create dictionary for this file\n",
    "                file_dict = {'burst_id': burstId,\n",
    "                                'date': date,\n",
    "                                'cslc_url': cslc_url,\n",
    "                                'cslc_static_url': cslc_static_url,\n",
    "                                'geometry': geometry}\n",
    "                # append to records\n",
    "                validation_bursts_df = pd.concat([validation_bursts_df, \\\n",
    "                    gpd.GeoDataFrame([file_dict])], ignore_index=True)"
   ]
  },
  {
   "attachments": {},
   "cell_type": "markdown",
   "metadata": {},
   "source": [
    "## Save validation table"
   ]
  },
  {
   "cell_type": "code",
   "execution_count": 7,
   "metadata": {},
   "outputs": [],
   "source": [
    "# sort by time\n",
    "validation_bursts_df = validation_bursts_df.sort_values(by=['burst_id', 'date'], ascending=[True, True])\n",
    "# save table to file\n",
    "validation_bursts_df.to_csv(validation_csv, index=False)"
   ]
  }
 ],
 "metadata": {
  "kernelspec": {
   "display_name": "calval_CSLC",
   "language": "python",
   "name": "python3"
  },
  "language_info": {
   "codemirror_mode": {
    "name": "ipython",
    "version": 3
   },
   "file_extension": ".py",
   "mimetype": "text/x-python",
   "name": "python",
   "nbconvert_exporter": "python",
   "pygments_lexer": "ipython3",
   "version": "3.11.4"
  },
  "orig_nbformat": 4
 },
 "nbformat": 4,
 "nbformat_minor": 2
}
