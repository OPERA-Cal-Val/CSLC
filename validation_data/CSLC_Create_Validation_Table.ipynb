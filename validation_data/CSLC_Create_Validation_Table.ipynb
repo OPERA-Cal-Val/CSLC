{
 "cells": [
  {
   "attachments": {},
   "cell_type": "markdown",
   "metadata": {},
   "source": [
    "# Workflow to create and maintain the validation table for CSLC Cal/Val\n",
    "\n",
    "This notebook demonstrates how to query the public S3 bucket hosting granules associated with bursts identified for CSLC Cal/Val activities.\n",
    "\n",
    "Specifically the motivation here to access + record the preqrequiste information from each granule in order to virtually perform Cal/Val analyses.\n",
    "\n",
    "For reference, the following resources were used to help create this notebook:\n",
    "https://alexwlchan.net/2017/listing-s3-keys/\n",
    "https://github.com/boto/boto3/issues/1200"
   ]
  },
  {
   "attachments": {},
   "cell_type": "markdown",
   "metadata": {},
   "source": [
    "## Load prerequisite modules"
   ]
  },
  {
   "cell_type": "code",
   "execution_count": 1,
   "metadata": {},
   "outputs": [],
   "source": [
    "import boto3\n",
    "from botocore import UNSIGNED\n",
    "from botocore.config import Config\n",
    "\n",
    "import fsspec\n",
    "\n",
    "import geopandas as gpd\n",
    "\n",
    "import h5py\n",
    "\n",
    "import pandas as pd\n",
    "\n",
    "from pathlib import Path\n",
    "\n",
    "import shapely.wkt as wkt"
   ]
  },
  {
   "attachments": {},
   "cell_type": "markdown",
   "metadata": {},
   "source": [
    "## Static variables that identify S3 paths to data\n",
    "\n",
    "<div class=\"alert alert-warning\">\n",
    "Only change IF you know what you are doing (i.e. itentional changes to reflect hypothetical migration of validation data).\n",
    "</div>"
   ]
  },
  {
   "cell_type": "code",
   "execution_count": 2,
   "metadata": {},
   "outputs": [],
   "source": [
    "# set S3 path variables\n",
    "bucket = 'opera-pst-rs-pop1'\n",
    "prefix = 'products/CSLC_S1'\n",
    "suffix = 'Z.h5'\n",
    "s3_path = f's3://{bucket}'\n",
    "DATA_ROOT = 'science/SENTINEL1'\n",
    "#DATA_ROOT = 'data'\n",
    "id_path = f'{DATA_ROOT}/identification'"
   ]
  },
  {
   "attachments": {},
   "cell_type": "markdown",
   "metadata": {},
   "source": [
    "## Load function to query S3 bucket"
   ]
  },
  {
   "cell_type": "code",
   "execution_count": 3,
   "metadata": {},
   "outputs": [],
   "source": [
    "def get_matching_s3_keys(bucket, prefix='', suffix='', burstId=''):\n",
    "    \"\"\"\n",
    "    Generate the keys in an S3 bucket.\n",
    "\n",
    "    :param bucket: Name of the S3 bucket.\n",
    "    :param prefix: Only fetch keys that start with this prefix.\n",
    "    :param suffix: Only fetch keys that end with this suffix.\n",
    "    :param burstId: Only fetch keys that match burstId.\n",
    "    \"\"\"\n",
    "    s3 = boto3.client('s3', config=Config(signature_version=UNSIGNED))\n",
    "    kwargs = {'Bucket': bucket}\n",
    "\n",
    "    # If the prefix is a single string (not a tuple of strings), we can\n",
    "    # do the filtering directly in the S3 API.\n",
    "    if isinstance(prefix, str):\n",
    "        kwargs['Prefix'] = prefix\n",
    "\n",
    "    while True:\n",
    "        # The S3 API response is a large blob of metadata.\n",
    "        # 'Contents' contains information about the listed objects.\n",
    "        resp = s3.list_objects_v2(**kwargs)\n",
    "        for obj in resp['Contents']:\n",
    "            key = obj['Key']\n",
    "            if key.startswith(prefix) and key.endswith(suffix) \\\n",
    "                 and burstId in key:\n",
    "                yield key\n",
    "\n",
    "        # The S3 API is paginated, returning up to 1000 keys at a time.\n",
    "        # Pass the continuation token into the next response, until we\n",
    "        # reach the final page (when this field is missing).\n",
    "        try:\n",
    "            kwargs['ContinuationToken'] = resp['NextContinuationToken']\n",
    "        except KeyError:\n",
    "            break\n",
    "\n",
    "    return"
   ]
  },
  {
   "attachments": {},
   "cell_type": "markdown",
   "metadata": {},
   "source": [
    "## Access or initiate validation table containing links to S3 bucket"
   ]
  },
  {
   "cell_type": "code",
   "execution_count": 4,
   "metadata": {},
   "outputs": [],
   "source": [
    "# access dataframe from file, if it exists\n",
    "validation_csv = Path('validation_table.csv')\n",
    "if validation_csv.is_file():\n",
    "    df = pd.read_csv(validation_csv)\n",
    "    validation_bursts_df = gpd.GeoDataFrame(\n",
    "        df.loc[:, [c for c in df.columns if c != \"geometry\"]],\n",
    "        geometry=gpd.GeoSeries.from_wkt(df[\"geometry\"])\n",
    "        )\n",
    "else:\n",
    "    # otherwise, initialize dataframe\n",
    "    validation_bursts_df = gpd.GeoDataFrame()\n",
    "    # add placeholder columns\n",
    "    validation_bursts_df['burst_id'] = None\n",
    "    validation_bursts_df['date'] = None\n",
    "    validation_bursts_df['cslc_url'] = None\n",
    "    validation_bursts_df['cslc_static_url'] = None"
   ]
  },
  {
   "attachments": {},
   "cell_type": "markdown",
   "metadata": {},
   "source": [
    "## Access premade, static table containing all bursts identified for CSLC Cal/Val activities"
   ]
  },
  {
   "cell_type": "code",
   "execution_count": 5,
   "metadata": {},
   "outputs": [],
   "source": [
    "# read list of bursts used for validation\n",
    "validation_bursts = Path('validation_bursts.csv')\n",
    "if validation_bursts.is_file():\n",
    "    df = pd.read_csv(validation_bursts)\n",
    "    burstId_list = df['burst_id'].to_list()\n",
    "else:\n",
    "    raise Exception(f'Expected burst record {validation_bursts.absolute()} '\n",
    "                    'not found. Check working directory.')"
   ]
  },
  {
   "attachments": {},
   "cell_type": "markdown",
   "metadata": {},
   "source": [
    "## Query server and build up validation table"
   ]
  },
  {
   "cell_type": "code",
   "execution_count": 6,
   "metadata": {},
   "outputs": [
    {
     "name": "stdout",
     "output_type": "stream",
     "text": [
      "Querying server for burst id t124_264518_iw1\n",
      "Querying server for burst id t124_264519_iw1\n",
      "Querying server for burst id t124_264520_iw1\n",
      "Querying server for burst id t124_264518_iw2\n",
      "Querying server for burst id t124_264519_iw2\n",
      "Querying server for burst id t124_264520_iw2\n",
      "Querying server for burst id t146_312199_iw3\n",
      "Querying server for burst id t146_312200_iw2\n",
      "Querying server for burst id t146_312199_iw2\n",
      "Querying server for burst id t146_312198_iw2\n",
      "Querying server for burst id t146_312197_iw2\n",
      "Querying server for burst id t146_312196_iw2\n",
      "Querying server for burst id t064_135523_iw1\n",
      "Querying server for burst id t064_135523_iw2\n",
      "Querying server for burst id t071_151224_iw2\n",
      "Querying server for burst id t071_151224_iw3\n",
      "Querying server for burst id t137_292330_iw1\n",
      "Querying server for burst id t137_292330_iw2\n",
      "Querying server for burst id t137_292331_iw1\n",
      "Querying server for burst id t137_292331_iw2\n",
      "Querying server for burst id t107_227888_iw2\n",
      "Querying server for burst id t107_227886_iw3\n",
      "Querying server for burst id t143_305904_iw2\n",
      "Querying server for burst id t034_071055_iw3\n",
      "Querying server for burst id t160_342212_iw1\n",
      "Querying server for burst id t160_342208_iw3\n",
      "Querying server for burst id t094_200136_iw2\n",
      "Querying server for burst id t094_200136_iw3\n",
      "Querying server for burst id t131_279917_iw1\n"
     ]
    }
   ],
   "source": [
    "# query products on S3 bucket\n",
    "for burstId in burstId_list:\n",
    "    # adjust burst strings to reflect product name convention\n",
    "    query_burstId = burstId.upper().replace('_','-')\n",
    "    print(f'Querying server for burst id {burstId}')\n",
    "    for key in get_matching_s3_keys(bucket=bucket,\n",
    "                                    prefix=prefix,\n",
    "                                    suffix=suffix,\n",
    "                                    burstId=query_burstId):\n",
    "        # only proceed if file not already captured in records\n",
    "        # and only if there is a valid corresponding static layer\n",
    "        cslc_url = f'{s3_path}/{key}'\n",
    "        cslc_static_url = Path(cslc_url)\n",
    "        cslc_static_url = str(Path(str(cslc_static_url.parent) + \\\n",
    "                          '_static_layers/' + \\\n",
    "                          cslc_static_url.name[:-3] + '_static_layers.h5'))\n",
    "        cslc_static_url = cslc_static_url[:3] + '/' + cslc_static_url[3:]\n",
    "\n",
    "        if cslc_url not in validation_bursts_df['cslc_url'].values.astype(str) \\\n",
    "            and '_v0.0_202303' not in cslc_static_url:\n",
    "            # get date\n",
    "            file_path = Path(key)\n",
    "            filename = file_path.name\n",
    "            date = filename.split('_')[-3][:8]\n",
    "\n",
    "            # check if geometry for burst already in df\n",
    "            geom_check = validation_bursts_df['burst_id'] == burstId\n",
    "            idx_geo = next(iter(geom_check.index[geom_check]), False)\n",
    "            if idx_geo != False:\n",
    "                geometry = validation_bursts_df.loc[idx_geo]['geometry']\n",
    "            else:\n",
    "                # otherwise, read file to access geometry\n",
    "                s3f = fsspec.open(cslc_url, mode='rb', anon=True,\n",
    "                                  default_fill_cache=False)\n",
    "                with h5py.File(s3f.open(),'r') as h5:\n",
    "                    geometry = h5[f'{id_path}/'\n",
    "                                  'bounding_polygon'][()].astype(str)\n",
    "                geometry = wkt.loads(geometry)\n",
    "\n",
    "            # create dictionary for this file\n",
    "            file_dict = {'burst_id': burstId,\n",
    "                         'date': date,\n",
    "                         'cslc_url': cslc_url,\n",
    "                         'cslc_static_url': cslc_static_url,\n",
    "                         'geometry': geometry}\n",
    "            # append to records\n",
    "            validation_bursts_df = pd.concat([validation_bursts_df, \\\n",
    "                gpd.GeoDataFrame([file_dict])], ignore_index=True)"
   ]
  },
  {
   "attachments": {},
   "cell_type": "markdown",
   "metadata": {},
   "source": [
    "## Save validation table"
   ]
  },
  {
   "cell_type": "code",
   "execution_count": 7,
   "metadata": {},
   "outputs": [],
   "source": [
    "# sort by time\n",
    "validation_bursts_df = validation_bursts_df.sort_values(by=['burst_id', 'date'], ascending=[True, True])\n",
    "# save table to file\n",
    "validation_bursts_df.to_csv('validation_table.csv', index=False)"
   ]
  }
 ],
 "metadata": {
  "kernelspec": {
   "display_name": "calval_CSLC",
   "language": "python",
   "name": "python3"
  },
  "language_info": {
   "codemirror_mode": {
    "name": "ipython",
    "version": 3
   },
   "file_extension": ".py",
   "mimetype": "text/x-python",
   "name": "python",
   "nbconvert_exporter": "python",
   "pygments_lexer": "ipython3",
   "version": "3.11.4"
  },
  "orig_nbformat": 4
 },
 "nbformat": 4,
 "nbformat_minor": 2
}
